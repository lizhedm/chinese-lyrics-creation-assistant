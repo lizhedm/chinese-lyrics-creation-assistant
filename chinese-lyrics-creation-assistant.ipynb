{
 "cells": [
  {
   "cell_type": "code",
   "execution_count": 19,
   "metadata": {},
   "outputs": [
    {
     "name": "stdout",
     "output_type": "stream",
     "text": [
      "641\n",
      "<class 'dict'>\n",
      "What do you want to search? zhang\n"
     ]
    },
    {
     "data": {
      "text/plain": [
       "[['丈', '仗', '帐', '帳', '张', '張', '樟', '章', '胀', '脹', '障'], ['掌', '涨', '漲']]"
      ]
     },
     "execution_count": 19,
     "metadata": {},
     "output_type": "execute_result"
    }
   ],
   "source": [
    "pinyin_chinese_dic = {}\n",
    "\n",
    "shengdiao_dic = {'ā':'a','á':'a','ǎ':'a','à':'a',\n",
    "                  'ē':'e','é':'e','ě':'e','è':'e',\n",
    "                  'ī':'i','í':'i','ǐ':'i','ì':'i',\n",
    "                  'ō':'o','ó':'o','ǒ':'o','ò':'o',\n",
    "                  'ū':'u','ú':'u','ǔ':'u','ù':'u'\n",
    "                }\n",
    "\n",
    "def initialData():\n",
    "    pingyin_txt = open(\"kHanyuPinlu.txt\",\"r\").read()\n",
    "    code_pingyin_chinese_list = pingyin_txt.split('\\n')\n",
    "    pinyin_list = []\n",
    "    chinese_list = []\n",
    "    for item in code_pingyin_chinese_list:\n",
    "        pinyin_chinese_list = item.split(':')\n",
    "        temp_list = pinyin_chinese_list[1].split('#')\n",
    "        pinyin_str = temp_list[0].strip()\n",
    "        for shengdiao_character in shengdiao_dic.keys():\n",
    "            if shengdiao_character in pinyin_str:\n",
    "                pinyin_str = pinyin_str.replace(shengdiao_character,shengdiao_dic[shengdiao_character])\n",
    "        chinese_str = temp_list[1].strip()\n",
    "        if pinyin_str in pinyin_chinese_dic:\n",
    "            pinyin_chinese_dic[pinyin_str].append(chinese_str)\n",
    "        else:\n",
    "            pinyin_chinese_dic[pinyin_str] = [chinese_str]\n",
    "    print(len(pinyin_chinese_dic))\n",
    "    print(type(pinyin_chinese_dic))\n",
    "    \n",
    "def searchPinyin(search_str):\n",
    "    result_list = []\n",
    "    str_len = len(search_str)\n",
    "    for pinyin_key in pinyin_chinese_dic.keys():\n",
    "#         still have bugs\n",
    "        if search_str == pinyin_key[-str_len:]:\n",
    "            result_list.append(pinyin_chinese_dic[pinyin_key])\n",
    "    return(result_list)\n",
    "\n",
    "initialData()\n",
    "search_str = input('What do you want to search? ')\n",
    "searchPinyin(search_str)"
   ]
  }
 ],
 "metadata": {
  "kernelspec": {
   "display_name": "Python 3",
   "language": "python",
   "name": "python3"
  },
  "language_info": {
   "codemirror_mode": {
    "name": "ipython",
    "version": 3
   },
   "file_extension": ".py",
   "mimetype": "text/x-python",
   "name": "python",
   "nbconvert_exporter": "python",
   "pygments_lexer": "ipython3",
   "version": "3.6.1"
  }
 },
 "nbformat": 4,
 "nbformat_minor": 2
}
